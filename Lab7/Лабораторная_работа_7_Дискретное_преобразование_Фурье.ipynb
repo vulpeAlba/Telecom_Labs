{
  "nbformat": 4,
  "nbformat_minor": 0,
  "metadata": {
    "colab": {
      "provenance": []
    },
    "kernelspec": {
      "name": "python3",
      "display_name": "Python 3"
    },
    "language_info": {
      "name": "python"
    }
  },
  "cells": [
    {
      "cell_type": "markdown",
      "source": [
        "**Ануфриева Виктория, 5130901/10202**"
      ],
      "metadata": {
        "id": "H4kein6G3pSV"
      }
    },
    {
      "cell_type": "markdown",
      "source": [
        "### *Упражнение 7.2.*\n",
        "\n",
        "Согласно методическому материалу, у нас есть метод для получения ДПФ за время, пропорциональное N^2, однако в данной работе нам необходимо попробовать использовть оптимизацию, которая позволят ускорить работу этого метода.\n",
        "\n",
        "Более быстрый метод назван быстрым преобразованием Фурье (БПФ).\n",
        "\n",
        "Он основан на лемме Дэниелсона-Ланцоша:\n",
        "\n",
        "DFT(y)[n]=DFT(e)[n]+exp⁡((-2πin)⁄n)∙DFT(o)[n]\n",
        "\n",
        "Где:\n",
        "\n",
        "DFT(y)[n] – n-й элемент ДПФ от y,\n",
        "\n",
        "e и o – массивы сигнала, содержащие соответственно четные и нечетные компоненты y.\n",
        "\n",
        "Благодаря этой лемме был разработан следующий рекурсивный алгоритм:\n",
        "\n",
        "\tРазделим массив сигнала y на четные элементы e и нечетные элементы o.\n",
        "\tВычислим DFT e и o, используя рекурсивный вызов.\n",
        "\tВычислим DFT(y) для каждого значения n, используя лемму Дэниелсона-Ланцоша.\n",
        "\n",
        "Создадим простой сигнал и вычислим его ДПФ, используя функцию numpy:\n"
      ],
      "metadata": {
        "id": "aWH4Hc5y3qWh"
      }
    },
    {
      "cell_type": "code",
      "execution_count": 1,
      "metadata": {
        "colab": {
          "base_uri": "https://localhost:8080/"
        },
        "id": "uaRldLAp3JXH",
        "outputId": "5f58ca8e-2d3c-4483-c266-d74a791e4fb5"
      },
      "outputs": [
        {
          "output_type": "execute_result",
          "data": {
            "text/plain": [
              "array([ 0.2+0.j , -1.2-0.2j,  0.2+0.j , -1.2+0.2j])"
            ]
          },
          "metadata": {},
          "execution_count": 1
        }
      ],
      "source": [
        "import numpy as np\n",
        "import matplotlib.pyplot as plt\n",
        "PI2 = 2 * np.pi\n",
        "# %%\n",
        "ys = [-0.5, 0.1, 0.7, -0.1]\n",
        "hs = np.fft.fft(ys)\n",
        "hs"
      ]
    },
    {
      "cell_type": "markdown",
      "source": [
        "Полученные значения будем использовать, как эталон для проверки корректности построения функции.\n",
        "\n",
        "Сначала проверим лемму на корректность - создадим функцию, которая вместо рекурсивного вызова делит массив на две части, вычисляет их ДПФ (используя функцию numpy) и подставляет значения в лемму:\n"
      ],
      "metadata": {
        "id": "622E6GzJ-QMm"
      }
    },
    {
      "cell_type": "code",
      "source": [
        "def fft_norec(ys):\n",
        "    N = len(ys)\n",
        "    He = np.fft.fft(ys[::2])\n",
        "    Ho = np.fft.fft(ys[1::2])\n",
        "\n",
        "    ns = np.arange(N)\n",
        "    W = np.exp(-1j * PI2 * ns / N)\n",
        "\n",
        "    return np.tile(He, 2) + W * np.tile(Ho, 2)"
      ],
      "metadata": {
        "id": "yA3ykDYO8EYX"
      },
      "execution_count": 3,
      "outputs": []
    },
    {
      "cell_type": "markdown",
      "source": [
        "Нас интересует разница в выводе между этим методом и методом из numpy:"
      ],
      "metadata": {
        "id": "8acsRAvS-qCR"
      }
    },
    {
      "cell_type": "code",
      "source": [
        "hs1 = fft_norec(ys)\n",
        "np.sum(np.abs(hs - hs1))"
      ],
      "metadata": {
        "colab": {
          "base_uri": "https://localhost:8080/"
        },
        "id": "dpcOvDuC-pJP",
        "outputId": "c9f44003-ec32-42a4-a6a4-a0391eae007b"
      },
      "execution_count": 4,
      "outputs": [
        {
          "output_type": "execute_result",
          "data": {
            "text/plain": [
              "0.0"
            ]
          },
          "metadata": {},
          "execution_count": 4
        }
      ]
    },
    {
      "cell_type": "markdown",
      "source": [
        "Мы получили 0, значит, использование метода выше допустимо.\n",
        "\n",
        "Теперь вместо того, чтоб использовать встроенную функцию, вызовем нашу функцию рекурсивно, согласно второму пункту алгоритма:"
      ],
      "metadata": {
        "id": "RXquJfJo-4dw"
      }
    },
    {
      "cell_type": "code",
      "source": [
        "def my_fft(ys):\n",
        "    N = len(ys)\n",
        "    if N == 1:\n",
        "        return ys\n",
        "\n",
        "    He = my_fft(ys[::2])\n",
        "    Ho = my_fft(ys[1::2])\n",
        "\n",
        "    ns = np.arange(N)\n",
        "    W = np.exp(-1j * PI2 * ns / N)\n",
        "\n",
        "    return np.tile(He, 2) + W * np.tile(Ho, 2)"
      ],
      "metadata": {
        "id": "-hlUjl6d8EUy"
      },
      "execution_count": 6,
      "outputs": []
    },
    {
      "cell_type": "markdown",
      "source": [
        "В код пришлось добавить проверку на длину массива (базовый случай), чтобы алгоритм не ушел в бесконечный цикл.\n",
        "\n",
        "Вызовем получившуюся функцию и посмотрим на результат погрешности:\n"
      ],
      "metadata": {
        "id": "4GxA3V5s_UvW"
      }
    },
    {
      "cell_type": "code",
      "source": [
        "hs2 = my_fft(ys)\n",
        "np.sum(np.abs(hs - hs2))"
      ],
      "metadata": {
        "colab": {
          "base_uri": "https://localhost:8080/"
        },
        "id": "t9ORSKfM_VGR",
        "outputId": "e5e740ab-1870-43cf-d450-c8aaf57eac7e"
      },
      "execution_count": 7,
      "outputs": [
        {
          "output_type": "execute_result",
          "data": {
            "text/plain": [
              "1.6653345369377348e-16"
            ]
          },
          "metadata": {},
          "execution_count": 7
        }
      ]
    },
    {
      "cell_type": "markdown",
      "source": [
        "Выходное значение очень маленькое, что говорит о корректности рассчётов и погрешности вычислений в методе.\n",
        "\n",
        "Но мы всё ещё не можем утверждать, что эта функция более быстрая.\n",
        "\n",
        "Для подтверждения предположений проверим функцию из методических материалов на предмет сложности N^2:\n"
      ],
      "metadata": {
        "id": "yB1T_Ysk_n3w"
      }
    },
    {
      "cell_type": "code",
      "source": [
        "def dft(ys):\n",
        "    N = len(ys)\n",
        "    ts = np.arange(N) / N\n",
        "    freqs = np.arange(N)\n",
        "    args = np.outer(ts, freqs)\n",
        "    M = np.exp(1j * PI2 * args)\n",
        "    amps = M.conj().transpose().dot(ys)\n",
        "    return amps\n",
        "\n",
        "hs3 = dft(ys)\n",
        "np.sum(np.abs(hs - hs3))"
      ],
      "metadata": {
        "colab": {
          "base_uri": "https://localhost:8080/"
        },
        "id": "LZMGkmkq8EQm",
        "outputId": "9fe8952c-b989-4b45-eb89-23165a5cc5f6"
      },
      "execution_count": 9,
      "outputs": [
        {
          "output_type": "execute_result",
          "data": {
            "text/plain": [
              "5.864775846765962e-16"
            ]
          },
          "metadata": {},
          "execution_count": 9
        }
      ]
    },
    {
      "cell_type": "markdown",
      "source": [
        "Также, нам необходима функция для замера скорости выполнения:"
      ],
      "metadata": {
        "id": "8prZj_m1AYpP"
      }
    },
    {
      "cell_type": "code",
      "source": [
        "def run_speed_test(func, lengths, ys):\n",
        "    bests = []\n",
        "    print(func.__name__)\n",
        "    for l in lengths:\n",
        "        print(l)\n",
        "        result = %timeit -r1 -o func(ys[:l])\n",
        "        bests.append(result.best)\n",
        "\n",
        "    return bests"
      ],
      "metadata": {
        "id": "o0hqfE1c8EJE"
      },
      "execution_count": 10,
      "outputs": []
    },
    {
      "cell_type": "markdown",
      "source": [
        "И функция, которая будет генерировать массив ys заданной длинны в пределах от -1 до 1:"
      ],
      "metadata": {
        "id": "sAhBNLyMAnAr"
      }
    },
    {
      "cell_type": "code",
      "source": [
        "def generate_ys(max_length=2**5):\n",
        "    return np.random.uniform(-1, 1, max_length)"
      ],
      "metadata": {
        "id": "1HUADxGVAmmI"
      },
      "execution_count": 11,
      "outputs": []
    },
    {
      "cell_type": "markdown",
      "source": [
        "Для создания выборок разной длинны (по степеням двойки) создадим массив lengths, и сгенерируем ys необходимой длинны:"
      ],
      "metadata": {
        "id": "cDs0yzi9AmQM"
      }
    },
    {
      "cell_type": "code",
      "source": [
        "max_length = 15\n",
        "lengths = [2 ** i for i in range(5, max_length)]\n",
        "ys = generate_ys(lengths[-1])"
      ],
      "metadata": {
        "id": "z4d0s6mv8D_c"
      },
      "execution_count": 12,
      "outputs": []
    },
    {
      "cell_type": "markdown",
      "source": [
        "Теперь запустим speed_test для встроенного метода в numpy.\n",
        "\n",
        "Результат представлени ниже:"
      ],
      "metadata": {
        "id": "FcJWGJmFA-XP"
      }
    },
    {
      "cell_type": "code",
      "source": [
        "fft_res = run_speed_test(np.fft.fft, lengths, ys)"
      ],
      "metadata": {
        "colab": {
          "base_uri": "https://localhost:8080/"
        },
        "id": "g24tsev58D0T",
        "outputId": "8d6d76eb-f271-4b44-a8b5-123ee06918ed"
      },
      "execution_count": 13,
      "outputs": [
        {
          "output_type": "stream",
          "name": "stdout",
          "text": [
            "fft\n",
            "32\n",
            "3.08 µs ± 0 ns per loop (mean ± std. dev. of 1 run, 100000 loops each)\n",
            "64\n",
            "3.68 µs ± 0 ns per loop (mean ± std. dev. of 1 run, 100000 loops each)\n",
            "128\n",
            "4.62 µs ± 0 ns per loop (mean ± std. dev. of 1 run, 100000 loops each)\n",
            "256\n",
            "5.72 µs ± 0 ns per loop (mean ± std. dev. of 1 run, 100000 loops each)\n",
            "512\n",
            "10.3 µs ± 0 ns per loop (mean ± std. dev. of 1 run, 100000 loops each)\n",
            "1024\n",
            "19.9 µs ± 0 ns per loop (mean ± std. dev. of 1 run, 10000 loops each)\n",
            "2048\n",
            "32.1 µs ± 0 ns per loop (mean ± std. dev. of 1 run, 10000 loops each)\n",
            "4096\n",
            "62.8 µs ± 0 ns per loop (mean ± std. dev. of 1 run, 10000 loops each)\n",
            "8192\n",
            "305 µs ± 0 ns per loop (mean ± std. dev. of 1 run, 10000 loops each)\n",
            "16384\n",
            "441 µs ± 0 ns per loop (mean ± std. dev. of 1 run, 1000 loops each)\n"
          ]
        }
      ]
    },
    {
      "cell_type": "markdown",
      "source": [
        "Выполним этот же вызов для функции dft, которая по утверждению автора книги работает за время N^2:"
      ],
      "metadata": {
        "id": "kX9ZzQ6fBJY4"
      }
    },
    {
      "cell_type": "code",
      "source": [
        "dft_res = run_speed_test(dft, lengths, ys)"
      ],
      "metadata": {
        "colab": {
          "base_uri": "https://localhost:8080/"
        },
        "id": "f4hUdaMN8Svp",
        "outputId": "dc06a879-0f24-4661-f1aa-91f2ef81f085"
      },
      "execution_count": 14,
      "outputs": [
        {
          "output_type": "stream",
          "name": "stdout",
          "text": [
            "dft\n",
            "32\n",
            "81.2 µs ± 0 ns per loop (mean ± std. dev. of 1 run, 10000 loops each)\n",
            "64\n",
            "432 µs ± 0 ns per loop (mean ± std. dev. of 1 run, 1000 loops each)\n",
            "128\n",
            "1.47 ms ± 0 ns per loop (mean ± std. dev. of 1 run, 1000 loops each)\n",
            "256\n",
            "7.58 ms ± 0 ns per loop (mean ± std. dev. of 1 run, 100 loops each)\n",
            "512\n",
            "48.8 ms ± 0 ns per loop (mean ± std. dev. of 1 run, 10 loops each)\n",
            "1024\n",
            "140 ms ± 0 ns per loop (mean ± std. dev. of 1 run, 10 loops each)\n",
            "2048\n",
            "295 ms ± 0 ns per loop (mean ± std. dev. of 1 run, 1 loop each)\n",
            "4096\n",
            "1.35 s ± 0 ns per loop (mean ± std. dev. of 1 run, 1 loop each)\n",
            "8192\n",
            "5.85 s ± 0 ns per loop (mean ± std. dev. of 1 run, 1 loop each)\n",
            "16384\n",
            "23.5 s ± 0 ns per loop (mean ± std. dev. of 1 run, 1 loop each)\n"
          ]
        }
      ]
    },
    {
      "cell_type": "markdown",
      "source": [
        "Аналогично измерим время работы созданной функции БПФ:"
      ],
      "metadata": {
        "id": "LpYZZOTdBc7f"
      }
    },
    {
      "cell_type": "code",
      "source": [
        "my_fft_res = run_speed_test(my_fft, lengths, ys)"
      ],
      "metadata": {
        "colab": {
          "base_uri": "https://localhost:8080/"
        },
        "id": "Ure4lnA28Sq5",
        "outputId": "de66c4a1-829d-44f4-9f48-cf307b210a78"
      },
      "execution_count": 15,
      "outputs": [
        {
          "output_type": "stream",
          "name": "stdout",
          "text": [
            "my_fft\n",
            "32\n",
            "593 µs ± 0 ns per loop (mean ± std. dev. of 1 run, 1000 loops each)\n",
            "64\n",
            "1.29 ms ± 0 ns per loop (mean ± std. dev. of 1 run, 1000 loops each)\n",
            "128\n",
            "2.67 ms ± 0 ns per loop (mean ± std. dev. of 1 run, 100 loops each)\n",
            "256\n",
            "5.28 ms ± 0 ns per loop (mean ± std. dev. of 1 run, 100 loops each)\n",
            "512\n",
            "15.6 ms ± 0 ns per loop (mean ± std. dev. of 1 run, 100 loops each)\n",
            "1024\n",
            "34.8 ms ± 0 ns per loop (mean ± std. dev. of 1 run, 10 loops each)\n",
            "2048\n",
            "49.1 ms ± 0 ns per loop (mean ± std. dev. of 1 run, 10 loops each)\n",
            "4096\n",
            "87.4 ms ± 0 ns per loop (mean ± std. dev. of 1 run, 10 loops each)\n",
            "8192\n",
            "256 ms ± 0 ns per loop (mean ± std. dev. of 1 run, 10 loops each)\n",
            "16384\n",
            "402 ms ± 0 ns per loop (mean ± std. dev. of 1 run, 1 loop each)\n"
          ]
        }
      ]
    },
    {
      "cell_type": "markdown",
      "source": [
        "Для более удобого сравнения результатов выведем их в виде графиков в логарифмической шкале и посчитаем их наклон.\n",
        "\n",
        "Итоговый график выглядит так:"
      ],
      "metadata": {
        "id": "jdKDLwKyBnKv"
      }
    },
    {
      "cell_type": "code",
      "source": [
        "from scipy.stats import linregress\n",
        "\n",
        "def plot_speed_test(lengths, ys, label):\n",
        "    plt.plot(lengths, ys, label=label)\n",
        "    x = np.log(lengths)\n",
        "    y = np.log(ys)\n",
        "    t = linregress(x,y)\n",
        "    print(label, t[0])\n",
        "\n",
        "plot_speed_test(lengths, fft_res, 'fft')\n",
        "plot_speed_test(lengths, dft_res, 'dft')\n",
        "plot_speed_test(lengths, my_fft_res, 'my_fft')\n",
        "\n",
        "plt.legend()\n",
        "plt.xlabel('Len')\n",
        "plt.ylabel('Time (s)')\n",
        "plt.xscale('log')\n",
        "plt.yscale('log')"
      ],
      "metadata": {
        "colab": {
          "base_uri": "https://localhost:8080/",
          "height": 506
        },
        "id": "28ftSHoG8Snc",
        "outputId": "f991202f-8951-40cd-bcf9-ed507f90e028"
      },
      "execution_count": 16,
      "outputs": [
        {
          "output_type": "stream",
          "name": "stdout",
          "text": [
            "fft 0.8261135377510959\n",
            "dft 1.9751480076555126\n",
            "my_fft 1.05491461207471\n"
          ]
        },
        {
          "output_type": "display_data",
          "data": {
            "text/plain": [
              "<Figure size 640x480 with 1 Axes>"
            ],
            "image/png": "[encoded data removed]"
          },
          "metadata": {}
        }
      ]
    },
    {
      "cell_type": "markdown",
      "source": [
        "Из представленного графика мы видим, что быстрее всего работает встроенная функция - fft, и возрастает она достаточно медленно.\n",
        "\n",
        "Быстрее всех возрастает функция dft, которую мы взяли из методических материалов, в начале она, нужно заметить, работает быстрее my_fft.\n",
        "\n",
        " Как и ожидалось, наша функция возрастает достаточно медленно.\n",
        "\n",
        "Что касается наклона, наклон dft почти равен 2, что доказывает пропорцию N^2.\n",
        "\n",
        "fft и my_fft не являются абсолютно прямыми, и их наклон примерно равен 1, что может говорить о логарифмической зависимости их скорости роста.\n"
      ],
      "metadata": {
        "id": "NKlFkzkVCHHy"
      }
    }
  ]
}